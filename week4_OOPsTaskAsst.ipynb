{
 "cells": [
  {
   "attachments": {},
   "cell_type": "markdown",
   "metadata": {},
   "source": [
    "Q1, Create a vehicle class with an init method having instance variables as name_of_vehicle, max_speed\n",
    "and average_of_vehicle."
   ]
  },
  {
   "cell_type": "code",
   "execution_count": null,
   "metadata": {},
   "outputs": [],
   "source": [
    "class vechile:\n",
    "    def __init__(self,name_of_vechile,max_speed,average_of_vechile):\n",
    "        self.name_of_vechile = name_of_vechile\n",
    "        self.max_speed = max_speed\n",
    "        self.average_of_vechile = average_of_vechile"
   ]
  },
  {
   "attachments": {},
   "cell_type": "markdown",
   "metadata": {},
   "source": [
    "Q2. Create a child class car from the vehicle class created in Que 1, which will inherit the vehicle class.\n",
    "Create a method named seating_capacity which takes capacity as an argument and returns the name of\n",
    "the vehicle and its seating capacity."
   ]
  },
  {
   "cell_type": "code",
   "execution_count": null,
   "metadata": {},
   "outputs": [],
   "source": [
    "class car(vechile):\n",
    "    def seating_capacity(self,capacity):\n",
    "        print(f'{self.name_of_vechile} has seating capacity : {capacity}')\n",
    "\n",
    "v = car('desire',99,50)\n",
    "\n",
    "v.seating_capacity(4)"
   ]
  },
  {
   "attachments": {},
   "cell_type": "markdown",
   "metadata": {},
   "source": [
    "Q3. What is multiple inheritance? Write a python code to demonstrate multiple inheritance."
   ]
  },
  {
   "attachments": {},
   "cell_type": "markdown",
   "metadata": {},
   "source": [
    "Multiple inheritance : where a class can inherit attributes and methods from multiple parent classes. This allows a derived class to inherit and incorporate behavior from multiple source classes."
   ]
  },
  {
   "cell_type": "code",
   "execution_count": 31,
   "metadata": {},
   "outputs": [
    {
     "name": "stdout",
     "output_type": "stream",
     "text": [
      "Hi from Father\n",
      "Hi from mom\n"
     ]
    }
   ],
   "source": [
    "class Father:\n",
    "    def greet1(self):\n",
    "        print('Hi from Father')\n",
    "\n",
    "class Mother:\n",
    "    def greet2(self):\n",
    "        print('Hi from mom')\n",
    "\n",
    "class child(Father,Mother):\n",
    "    pass\n",
    "\n",
    "c = child()\n",
    "\n",
    "c.greet1()\n",
    "c.greet2()"
   ]
  },
  {
   "attachments": {},
   "cell_type": "markdown",
   "metadata": {},
   "source": [
    "Q4. What are getter and setter in python? Create a class and create a getter and a setter method in this\n",
    "class."
   ]
  },
  {
   "attachments": {},
   "cell_type": "markdown",
   "metadata": {},
   "source": [
    "getter and setter methods are used to control access to class attributes.\n",
    "They provide a way to get and set the values of private attributes and allow for encapsulation and data abstraction."
   ]
  },
  {
   "cell_type": "code",
   "execution_count": 5,
   "metadata": {},
   "outputs": [
    {
     "name": "stdout",
     "output_type": "stream",
     "text": [
      "Bharath\n",
      "Ram\n"
     ]
    }
   ],
   "source": [
    "class person:\n",
    "    def __init__(self,name):\n",
    "        self.name = name\n",
    "\n",
    "    def get_name(self):\n",
    "        return self.name\n",
    "\n",
    "    def set_name(self,new_name):\n",
    "        self.name = new_name\n",
    "\n",
    "p = person('Bharath')\n",
    "\n",
    "print(p.get_name())\n",
    "\n",
    "p.set_name('Ram')\n",
    "\n",
    "print(p.get_name())"
   ]
  },
  {
   "attachments": {},
   "cell_type": "markdown",
   "metadata": {},
   "source": [
    "Q5.What is method overriding in python? Write a python code to demonstrate method overriding."
   ]
  },
  {
   "attachments": {},
   "cell_type": "markdown",
   "metadata": {},
   "source": [
    "Method overriding occurs when a derived class provides a different implementation for a method that is already defined in its base class. The overridden method in the derived class has the same name, return type, and parameters as the base class method."
   ]
  },
  {
   "cell_type": "code",
   "execution_count": 6,
   "metadata": {},
   "outputs": [
    {
     "name": "stdout",
     "output_type": "stream",
     "text": [
      "Calculating area in the Shape class.\n",
      "Calculating area in the Rectangle class.\n",
      "Calculating area in the Circle class.\n"
     ]
    }
   ],
   "source": [
    "class Shape:\n",
    "    def area(self):\n",
    "        print(\"Calculating area in the Shape class.\")\n",
    "\n",
    "class Rectangle(Shape):\n",
    "    def area(self):\n",
    "        print(\"Calculating area in the Rectangle class.\")\n",
    "\n",
    "class Circle(Shape):\n",
    "    def area(self):\n",
    "        print(\"Calculating area in the Circle class.\")\n",
    "\n",
    "\n",
    "shape = Shape()\n",
    "\n",
    "rectangle = Rectangle()\n",
    "\n",
    "circle = Circle()\n",
    "\n",
    "shape.area()      \n",
    "\n",
    "rectangle.area()  \n",
    "\n",
    "circle.area()     "
   ]
  }
 ],
 "metadata": {
  "kernelspec": {
   "display_name": "Python 3",
   "language": "python",
   "name": "python3"
  },
  "language_info": {
   "codemirror_mode": {
    "name": "ipython",
    "version": 3
   },
   "file_extension": ".py",
   "mimetype": "text/x-python",
   "name": "python",
   "nbconvert_exporter": "python",
   "pygments_lexer": "ipython3",
   "version": "3.11.0"
  },
  "orig_nbformat": 4
 },
 "nbformat": 4,
 "nbformat_minor": 2
}
